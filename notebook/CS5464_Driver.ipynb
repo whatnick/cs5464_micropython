{
 "cells": [
  {
   "cell_type": "code",
   "execution_count": 1,
   "metadata": {},
   "outputs": [
    {
     "name": "stdout",
     "output_type": "stream",
     "text": [
      "\u001b[34mConnecting to --port=/dev/ttyS15 --baud=115200 \u001b[0m\n",
      "\u001b[34mReady.\n",
      "\u001b[0m"
     ]
    }
   ],
   "source": [
    "%serialconnect --port=/dev/ttyS15"
   ]
  },
  {
   "cell_type": "code",
   "execution_count": 2,
   "metadata": {},
   "outputs": [
    {
     "name": "stdout",
     "output_type": "stream",
     "text": [
      "repl is in normal command mode\n",
      "[\\r\\x03\\x03] b'\\r\\nMicroPython v1.12-68-g3032ae115 on 2020-01-19; ESP32 module with ESP32\\r\\nType \"help()\" for more information.\\r\\n>>> \\r\\n>>> \\r\\nMPY: soft reboot\\r\\nMicroPython v1.12-68-g3032ae115 on 2020-01-19; ESP32 module with ESP32\\r\\nType \"help()\" for more information.\\r\\n>>> \\r\\n>>> \\r\\n>>> '\n",
      "[\\r\\x01] b'\\r\\n>>> \\r\\nraw REPL; CTRL-B to exit\\r\\n>'"
     ]
    }
   ],
   "source": [
    "%rebootdevice"
   ]
  },
  {
   "cell_type": "code",
   "execution_count": 3,
   "metadata": {},
   "outputs": [],
   "source": [
    "import machine\n",
    "import time\n",
    "import struct"
   ]
  },
  {
   "cell_type": "code",
   "execution_count": 4,
   "metadata": {},
   "outputs": [],
   "source": [
    "sck = machine.Pin(18,machine.Pin.OUT)\n",
    "mosi = machine.Pin(23,machine.Pin.OUT)\n",
    "miso = machine.Pin(19,machine.Pin.IN)\n",
    "cs = machine.Pin(5,machine.Pin.OUT)"
   ]
  },
  {
   "cell_type": "code",
   "execution_count": 5,
   "metadata": {},
   "outputs": [],
   "source": [
    "spi = machine.SPI(1,baudrate=200000,bits=8,polarity=1,phase=1,firstbit=machine.SPI.MSB,sck=sck,mosi=mosi,miso=miso)"
   ]
  },
  {
   "cell_type": "markdown",
   "metadata": {},
   "source": [
    "## SPI Write Command\n",
    "```cpp\n",
    "void SPI_writeCommand(byte command) {\n",
    "  digitalWrite(slaveSelectPin, LOW); //SS goes low to mark start of transmission\n",
    "  union FourByte data = {0xFEFEFE, command}; //generate the data to be sent, i.e. your command plus the Sync bytes.\n",
    "  // Serial1.print(\"SPI_writeCommand\");\n",
    "  for (int i = 3; i >= 0; i--) {\n",
    "    SPI.transfer(data.bit8[i]); //transfer all 4 bytes of data - command first, then Big Endian transfer of the 24bit value.\n",
    "    // Serial1.print(i);\n",
    "    // Serial1.print(data.bit8[i], HEX);\n",
    "  }\n",
    "  // Serial1.println();\n",
    "  digitalWrite(slaveSelectPin, HIGH);\n",
    "}\n",
    "```"
   ]
  },
  {
   "cell_type": "markdown",
   "metadata": {},
   "source": [
    "## SPI Read Command\n",
    "```cpp\n",
    "// Read a register from the CS5464 - just supply a command byte (see the datasheet)\n",
    "unsigned long SPI_read(byte command) {\n",
    "  digitalWrite(slaveSelectPin, LOW); //SS goes low to mark start of transmission\n",
    "  union FourByte data = {0xFEFEFE, command}; //generate the data to be sent, i.e. your command plus the Sync bytes.\n",
    "  // Serial1.print(\"SPI_Read\");\n",
    "  for (int i = 3; i >= 0; i--) {\n",
    "    data.bit8[i] = SPI.transfer(data.bit8[i]); //send the data whilst reading in the result\n",
    "    // Serial1.print(data.bit8[i], HEX);\n",
    "  }\n",
    "  // Serial1.println();\n",
    "  digitalWrite(slaveSelectPin, HIGH); //SS goes high to mark end of transmission\n",
    "  return data.value; //return the 24bit value recieved.\n",
    "}\n",
    "```"
   ]
  },
  {
   "cell_type": "code",
   "execution_count": 6,
   "metadata": {},
   "outputs": [],
   "source": [
    "def write_command(command,cs,spi):\n",
    "    cs.value(False)\n",
    "    otw_value = struct.pack('>BBBB',command,0xFE,0xFE,0xFE)\n",
    "    spi.write(otw_value)\n",
    "    result = spi.read(4)\n",
    "    cs.value(True)\n",
    "    return result\n",
    "\n",
    "def read_command(command,cs,spi):\n",
    "    cs.value(False)\n",
    "    otw_value = struct.pack('>BBBB',command,0xFE,0xFE,0xFE)\n",
    "    spi.write(otw_value)\n",
    "    result = spi.read(4)\n",
    "    cs.value(True)\n",
    "    return result"
   ]
  },
  {
   "cell_type": "code",
   "execution_count": 7,
   "metadata": {},
   "outputs": [
    {
     "name": "stdout",
     "output_type": "stream",
     "text": [
      "b'\\x00\\x00\\x00\\x00'\r\n"
     ]
    }
   ],
   "source": [
    "reset = write_command(0x80,cs,spi)\n",
    "print(reset)"
   ]
  },
  {
   "cell_type": "code",
   "execution_count": 8,
   "metadata": {},
   "outputs": [
    {
     "name": "stdout",
     "output_type": "stream",
     "text": [
      "b'\\x00\\x00\\x00\\x00'\r\n"
     ]
    }
   ],
   "source": [
    "status = read_command(0b00011110,cs,spi)\n",
    "print(status)\n",
    "status = struct.unpack('>L',status)[0]"
   ]
  },
  {
   "cell_type": "code",
   "execution_count": 9,
   "metadata": {},
   "outputs": [
    {
     "name": "stdout",
     "output_type": "stream",
     "text": [
      "0\r\n"
     ]
    }
   ],
   "source": [
    "print(status)"
   ]
  },
  {
   "cell_type": "code",
   "execution_count": 10,
   "metadata": {},
   "outputs": [
    {
     "name": "stdout",
     "output_type": "stream",
     "text": [
      "0\r\n"
     ]
    }
   ],
   "source": [
    "print((1<<23) & (status))"
   ]
  },
  {
   "cell_type": "code",
   "execution_count": 11,
   "metadata": {},
   "outputs": [],
   "source": [
    "mode = write_command(0xE8, cs, spi)"
   ]
  },
  {
   "cell_type": "code",
   "execution_count": 12,
   "metadata": {},
   "outputs": [
    {
     "name": "stdout",
     "output_type": "stream",
     "text": [
      "b'\\x00\\x00\\x00\\x00'\r\n"
     ]
    }
   ],
   "source": [
    "print(mode)"
   ]
  },
  {
   "cell_type": "code",
   "execution_count": 13,
   "metadata": {},
   "outputs": [],
   "source": [
    "current = read_command(0b00101100,cs,spi)"
   ]
  },
  {
   "cell_type": "code",
   "execution_count": 14,
   "metadata": {},
   "outputs": [
    {
     "name": "stdout",
     "output_type": "stream",
     "text": [
      "b'\\x00\\x00\\x00\\x00'\r\n"
     ]
    }
   ],
   "source": [
    "print(current)"
   ]
  }
 ],
 "metadata": {
  "kernelspec": {
   "display_name": "MicroPython - USB",
   "language": "micropython",
   "name": "micropython"
  },
  "language_info": {
   "codemirror_mode": "python",
   "file_extension": ".py",
   "mimetype": "text/python",
   "name": "micropython"
  }
 },
 "nbformat": 4,
 "nbformat_minor": 2
}
